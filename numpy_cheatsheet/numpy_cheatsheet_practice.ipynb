{
 "cells": [
  {
   "cell_type": "code",
   "execution_count": 3,
   "id": "6d058ffa",
   "metadata": {},
   "outputs": [],
   "source": [
    "import numpy as np"
   ]
  },
  {
   "cell_type": "code",
   "execution_count": null,
   "id": "d8dc596d",
   "metadata": {},
   "outputs": [
    {
     "name": "stdout",
     "output_type": "stream",
     "text": [
      "[1 2 3]\n"
     ]
    }
   ],
   "source": [
    "one_d_array = np.array([1, 2, 3]) #One dimensional array\n",
    "print(one_d_array)"
   ]
  },
  {
   "cell_type": "code",
   "execution_count": 28,
   "id": "b0713815",
   "metadata": {},
   "outputs": [
    {
     "data": {
      "text/plain": [
       "3"
      ]
     },
     "execution_count": 28,
     "metadata": {},
     "output_type": "execute_result"
    }
   ],
   "source": [
    "one_d_array.size"
   ]
  },
  {
   "cell_type": "code",
   "execution_count": 33,
   "id": "7fad94c1",
   "metadata": {},
   "outputs": [
    {
     "data": {
      "text/plain": [
       "(3,)"
      ]
     },
     "execution_count": 33,
     "metadata": {},
     "output_type": "execute_result"
    }
   ],
   "source": [
    "one_d_array.shape  "
   ]
  },
  {
   "cell_type": "code",
   "execution_count": 37,
   "id": "3b49e8b7",
   "metadata": {},
   "outputs": [
    {
     "data": {
      "text/plain": [
       "dtype('int32')"
      ]
     },
     "execution_count": 37,
     "metadata": {},
     "output_type": "execute_result"
    }
   ],
   "source": [
    "one_d_array.dtype"
   ]
  },
  {
   "cell_type": "code",
   "execution_count": 39,
   "id": "584d55ae",
   "metadata": {},
   "outputs": [
    {
     "data": {
      "text/plain": [
       "array([1., 2., 3.])"
      ]
     },
     "execution_count": 39,
     "metadata": {},
     "output_type": "execute_result"
    }
   ],
   "source": [
    "one_d_array.astype('float64')"
   ]
  },
  {
   "cell_type": "code",
   "execution_count": 65,
   "id": "9fae97ab",
   "metadata": {},
   "outputs": [
    {
     "data": {
      "text/plain": [
       "array([1, 2, 3, 4])"
      ]
     },
     "execution_count": 65,
     "metadata": {},
     "output_type": "execute_result"
    }
   ],
   "source": [
    "np.append(one_d_array , 4)"
   ]
  },
  {
   "cell_type": "code",
   "execution_count": 69,
   "id": "98470e04",
   "metadata": {},
   "outputs": [
    {
     "data": {
      "text/plain": [
       "array([1, 1, 2, 3])"
      ]
     },
     "execution_count": 69,
     "metadata": {},
     "output_type": "execute_result"
    }
   ],
   "source": [
    "np.insert(one_d_array , 1 , 1.5)"
   ]
  },
  {
   "cell_type": "code",
   "execution_count": 70,
   "id": "f6035f58",
   "metadata": {},
   "outputs": [
    {
     "data": {
      "text/plain": [
       "array([1, 2])"
      ]
     },
     "execution_count": 70,
     "metadata": {},
     "output_type": "execute_result"
    }
   ],
   "source": [
    "np.delete(one_d_array , 2)"
   ]
  },
  {
   "cell_type": "code",
   "execution_count": 48,
   "id": "1ae8bd34",
   "metadata": {},
   "outputs": [
    {
     "name": "stdout",
     "output_type": "stream",
     "text": [
      " eye(N, M=None, k=0, dtype=<class 'float'>, order='C', *, like=None)\n",
      "\n",
      "Return a 2-D array with ones on the diagonal and zeros elsewhere.\n",
      "\n",
      "Parameters\n",
      "----------\n",
      "N : int\n",
      "  Number of rows in the output.\n",
      "M : int, optional\n",
      "  Number of columns in the output. If None, defaults to `N`.\n",
      "k : int, optional\n",
      "  Index of the diagonal: 0 (the default) refers to the main diagonal,\n",
      "  a positive value refers to an upper diagonal, and a negative value\n",
      "  to a lower diagonal.\n",
      "dtype : data-type, optional\n",
      "  Data-type of the returned array.\n",
      "order : {'C', 'F'}, optional\n",
      "    Whether the output should be stored in row-major (C-style) or\n",
      "    column-major (Fortran-style) order in memory.\n",
      "\n",
      "    .. versionadded:: 1.14.0\n",
      "like : array_like, optional\n",
      "    Reference object to allow the creation of arrays which are not\n",
      "    NumPy arrays. If an array-like passed in as ``like`` supports\n",
      "    the ``__array_function__`` protocol, the result will be defined\n",
      "    by it. In this case, it ensures the creation of an array object\n",
      "    compatible with that passed in via this argument.\n",
      "\n",
      "    .. versionadded:: 1.20.0\n",
      "\n",
      "Returns\n",
      "-------\n",
      "I : ndarray of shape (N,M)\n",
      "  An array where all elements are equal to zero, except for the `k`-th\n",
      "  diagonal, whose values are equal to one.\n",
      "\n",
      "See Also\n",
      "--------\n",
      "identity : (almost) equivalent function\n",
      "diag : diagonal 2-D array from a 1-D array specified by the user.\n",
      "\n",
      "Examples\n",
      "--------\n",
      ">>> np.eye(2, dtype=int)\n",
      "array([[1, 0],\n",
      "       [0, 1]])\n",
      ">>> np.eye(3, k=1)\n",
      "array([[0.,  1.,  0.],\n",
      "       [0.,  0.,  1.],\n",
      "       [0.,  0.,  0.]])\n"
     ]
    }
   ],
   "source": [
    "np.info(np.eye)   # View documentation for np.eye"
   ]
  },
  {
   "cell_type": "code",
   "execution_count": null,
   "id": "a3cfd4a2",
   "metadata": {},
   "outputs": [
    {
     "name": "stdout",
     "output_type": "stream",
     "text": [
      "[[1 2 3]\n",
      " [4 5 6]]\n"
     ]
    }
   ],
   "source": [
    "two_d_array = np.array([[1, 2, 3], [4, 5, 6]])   #  Two dimensional array\n",
    "print(two_d_array)"
   ]
  },
  {
   "cell_type": "code",
   "execution_count": 29,
   "id": "4ed5dd2f",
   "metadata": {},
   "outputs": [
    {
     "data": {
      "text/plain": [
       "6"
      ]
     },
     "execution_count": 29,
     "metadata": {},
     "output_type": "execute_result"
    }
   ],
   "source": [
    "two_d_array.size"
   ]
  },
  {
   "cell_type": "code",
   "execution_count": 34,
   "id": "44cf5c38",
   "metadata": {},
   "outputs": [
    {
     "data": {
      "text/plain": [
       "(2, 3)"
      ]
     },
     "execution_count": 34,
     "metadata": {},
     "output_type": "execute_result"
    }
   ],
   "source": [
    "two_d_array.shape"
   ]
  },
  {
   "cell_type": "code",
   "execution_count": 44,
   "id": "e95636f5",
   "metadata": {},
   "outputs": [
    {
     "data": {
      "text/plain": [
       "[[1, 2, 3], [4, 5, 6]]"
      ]
     },
     "execution_count": 44,
     "metadata": {},
     "output_type": "execute_result"
    }
   ],
   "source": [
    "two_d_array.tolist()"
   ]
  },
  {
   "cell_type": "code",
   "execution_count": 68,
   "id": "a7cdd703",
   "metadata": {},
   "outputs": [
    {
     "data": {
      "text/plain": [
       "array([1, 2, 3, 4, 5, 6, 2])"
      ]
     },
     "execution_count": 68,
     "metadata": {},
     "output_type": "execute_result"
    }
   ],
   "source": [
    "np.append(two_d_array , [2] , )"
   ]
  },
  {
   "cell_type": "code",
   "execution_count": null,
   "id": "4699da00",
   "metadata": {},
   "outputs": [
    {
     "name": "stdout",
     "output_type": "stream",
     "text": [
      "[0. 0. 0.]\n"
     ]
    }
   ],
   "source": [
    "one_d_zero = np.zeros(3)   #   1D array of length 3 all values 0\n",
    "print(one_d_zero)"
   ]
  },
  {
   "cell_type": "code",
   "execution_count": 22,
   "id": "5370455c",
   "metadata": {},
   "outputs": [
    {
     "name": "stdout",
     "output_type": "stream",
     "text": [
      "[[0. 0. 0.]\n",
      " [0. 0. 0.]]\n"
     ]
    }
   ],
   "source": [
    "multi_d = np.zeros((2, 3)) # 2x3 array of zeros\n",
    "print(multi_d)"
   ]
  },
  {
   "cell_type": "code",
   "execution_count": 23,
   "id": "9562782b",
   "metadata": {},
   "outputs": [
    {
     "name": "stdout",
     "output_type": "stream",
     "text": [
      "[[1. 1. 1. 1.]\n",
      " [1. 1. 1. 1.]\n",
      " [1. 1. 1. 1.]]\n"
     ]
    }
   ],
   "source": [
    "one_value = np.ones((3,4))  #   3x4 array with all values 1\n",
    "print(one_value)"
   ]
  },
  {
   "cell_type": "code",
   "execution_count": null,
   "id": "ccc75b3d",
   "metadata": {},
   "outputs": [
    {
     "name": "stdout",
     "output_type": "stream",
     "text": [
      "[[1. 0. 0. 0. 0.]\n",
      " [0. 1. 0. 0. 0.]\n",
      " [0. 0. 1. 0. 0.]\n",
      " [0. 0. 0. 1. 0.]\n",
      " [0. 0. 0. 0. 1.]]\n"
     ]
    }
   ],
   "source": [
    "unit_array = np.eye(5)    # 5x5 array of 0 with 1 on diagonal\n",
    "print(unit_array)"
   ]
  },
  {
   "cell_type": "code",
   "execution_count": 30,
   "id": "38dd0f90",
   "metadata": {},
   "outputs": [
    {
     "data": {
      "text/plain": [
       "25"
      ]
     },
     "execution_count": 30,
     "metadata": {},
     "output_type": "execute_result"
    }
   ],
   "source": [
    "unit_array.size"
   ]
  },
  {
   "cell_type": "code",
   "execution_count": 35,
   "id": "8508704e",
   "metadata": {},
   "outputs": [
    {
     "data": {
      "text/plain": [
       "(5, 5)"
      ]
     },
     "execution_count": 35,
     "metadata": {},
     "output_type": "execute_result"
    }
   ],
   "source": [
    "unit_array.shape"
   ]
  },
  {
   "cell_type": "code",
   "execution_count": 38,
   "id": "ba7c7c96",
   "metadata": {},
   "outputs": [
    {
     "data": {
      "text/plain": [
       "dtype('float64')"
      ]
     },
     "execution_count": 38,
     "metadata": {},
     "output_type": "execute_result"
    }
   ],
   "source": [
    "unit_array.dtype"
   ]
  },
  {
   "cell_type": "code",
   "execution_count": 45,
   "id": "49056253",
   "metadata": {},
   "outputs": [
    {
     "data": {
      "text/plain": [
       "[[1.0, 0.0, 0.0, 0.0, 0.0],\n",
       " [0.0, 1.0, 0.0, 0.0, 0.0],\n",
       " [0.0, 0.0, 1.0, 0.0, 0.0],\n",
       " [0.0, 0.0, 0.0, 1.0, 0.0],\n",
       " [0.0, 0.0, 0.0, 0.0, 1.0]]"
      ]
     },
     "execution_count": 45,
     "metadata": {},
     "output_type": "execute_result"
    }
   ],
   "source": [
    "unit_array.tolist()"
   ]
  },
  {
   "cell_type": "code",
   "execution_count": 43,
   "id": "c7241bca",
   "metadata": {},
   "outputs": [
    {
     "data": {
      "text/plain": [
       "array([[ True, False, False, False, False],\n",
       "       [False,  True, False, False, False],\n",
       "       [False, False,  True, False, False],\n",
       "       [False, False, False,  True, False],\n",
       "       [False, False, False, False,  True]])"
      ]
     },
     "execution_count": 43,
     "metadata": {},
     "output_type": "execute_result"
    }
   ],
   "source": [
    "unit_array.astype(bool)"
   ]
  },
  {
   "cell_type": "code",
   "execution_count": null,
   "id": "59211b10",
   "metadata": {},
   "outputs": [
    {
     "name": "stdout",
     "output_type": "stream",
     "text": [
      "[  0.          16.66666667  33.33333333  50.          66.66666667\n",
      "  83.33333333 100.        ]\n"
     ]
    }
   ],
   "source": [
    "a = np.linspace(0,100,7)  #  Array of 6 evenly divided values from 0 to 100\n",
    "print(a)"
   ]
  },
  {
   "cell_type": "code",
   "execution_count": 40,
   "id": "14674cc8",
   "metadata": {},
   "outputs": [
    {
     "data": {
      "text/plain": [
       "array([  0,  16,  33,  50,  66,  83, 100])"
      ]
     },
     "execution_count": 40,
     "metadata": {},
     "output_type": "execute_result"
    }
   ],
   "source": [
    "a.astype('int32')"
   ]
  },
  {
   "cell_type": "code",
   "execution_count": null,
   "id": "3565f319",
   "metadata": {},
   "outputs": [
    {
     "name": "stdout",
     "output_type": "stream",
     "text": [
      "[0 3 6 9]\n"
     ]
    }
   ],
   "source": [
    "b = np.arange(0,10,3)   #  Array of values from 0 to less than 10 with step 3\n",
    "print(b)"
   ]
  },
  {
   "cell_type": "code",
   "execution_count": 24,
   "id": "2afea13f",
   "metadata": {},
   "outputs": [
    {
     "data": {
      "text/plain": [
       "array([[8, 8, 8],\n",
       "       [8, 8, 8]])"
      ]
     },
     "execution_count": 24,
     "metadata": {},
     "output_type": "execute_result"
    }
   ],
   "source": [
    "np.full((2,3),8)   #  2x3 array with all values 8"
   ]
  },
  {
   "cell_type": "code",
   "execution_count": 25,
   "id": "5f1b198e",
   "metadata": {},
   "outputs": [
    {
     "data": {
      "text/plain": [
       "array([[0.45157749, 0.94213961, 0.34129802, 0.76552648, 0.88410234],\n",
       "       [0.67214815, 0.41895584, 0.65227059, 0.94291766, 0.02876872],\n",
       "       [0.94457709, 0.03173158, 0.70712766, 0.95426982, 0.77422609],\n",
       "       [0.03715312, 0.9228704 , 0.48977007, 0.50361569, 0.00922347]])"
      ]
     },
     "execution_count": 25,
     "metadata": {},
     "output_type": "execute_result"
    }
   ],
   "source": [
    "np.random.rand(4,5)   #  4x5 array of random values between 0 and 1"
   ]
  },
  {
   "cell_type": "code",
   "execution_count": 41,
   "id": "ff1a885a",
   "metadata": {},
   "outputs": [
    {
     "name": "stdout",
     "output_type": "stream",
     "text": [
      "[[56.89009122 92.69732233 93.3640473  12.54019526  5.73517434 78.14397073\n",
      "  83.51693826]\n",
      " [76.2607735  81.03520738 90.08015306 12.62051526 65.46775523 23.45484871\n",
      "  56.9556384 ]\n",
      " [28.58372047 20.8419383  28.81563741 12.05262833 80.25498927  1.30645817\n",
      "  39.2299692 ]\n",
      " [37.28269904 46.62254748  0.96194631 88.73393796 73.10901571 84.16435045\n",
      "  15.6502112 ]\n",
      " [95.76564458 88.79117963 58.0031241   2.70498644 80.37338802 97.90220537\n",
      "  86.92368389]\n",
      " [50.4859649  12.56651559 82.29045673 72.68956143 69.7031323  83.40259239\n",
      "  21.22051664]]\n"
     ]
    }
   ],
   "source": [
    "rand_arr = np.random.rand(6,7)*100   #  6x7 array of random values between 0 and 100\n",
    "print(rand_arr)"
   ]
  },
  {
   "cell_type": "code",
   "execution_count": 32,
   "id": "e1d71684",
   "metadata": {},
   "outputs": [
    {
     "data": {
      "text/plain": [
       "42"
      ]
     },
     "execution_count": 32,
     "metadata": {},
     "output_type": "execute_result"
    }
   ],
   "source": [
    "rand_arr.size"
   ]
  },
  {
   "cell_type": "code",
   "execution_count": 36,
   "id": "9cbbfc71",
   "metadata": {},
   "outputs": [
    {
     "data": {
      "text/plain": [
       "(6, 7)"
      ]
     },
     "execution_count": 36,
     "metadata": {},
     "output_type": "execute_result"
    }
   ],
   "source": [
    "rand_arr.shape"
   ]
  },
  {
   "cell_type": "code",
   "execution_count": 53,
   "id": "f00777ff",
   "metadata": {},
   "outputs": [
    {
     "name": "stdout",
     "output_type": "stream",
     "text": [
      "[[ 5.73517434 12.54019526 56.89009122 78.14397073 83.51693826 92.69732233\n",
      "  93.3640473 ]\n",
      " [12.62051526 23.45484871 56.9556384  65.46775523 76.2607735  81.03520738\n",
      "  90.08015306]\n",
      " [ 1.30645817 12.05262833 20.8419383  28.58372047 28.81563741 39.2299692\n",
      "  80.25498927]\n",
      " [ 0.96194631 15.6502112  37.28269904 46.62254748 73.10901571 84.16435045\n",
      "  88.73393796]\n",
      " [ 2.70498644 58.0031241  80.37338802 86.92368389 88.79117963 95.76564458\n",
      "  97.90220537]\n",
      " [12.56651559 21.22051664 50.4859649  69.7031323  72.68956143 82.29045673\n",
      "  83.40259239]]\n"
     ]
    }
   ],
   "source": [
    "rand_arr.sort()\n",
    "print(rand_arr)"
   ]
  },
  {
   "cell_type": "code",
   "execution_count": 55,
   "id": "92f742e5",
   "metadata": {},
   "outputs": [
    {
     "name": "stdout",
     "output_type": "stream",
     "text": [
      "[[ 0.96194631 12.05262833 20.8419383  28.58372047 28.81563741 39.2299692\n",
      "  80.25498927]\n",
      " [ 1.30645817 12.54019526 37.28269904 46.62254748 72.68956143 81.03520738\n",
      "  83.40259239]\n",
      " [ 2.70498644 15.6502112  50.4859649  65.46775523 73.10901571 82.29045673\n",
      "  88.73393796]\n",
      " [ 5.73517434 21.22051664 56.89009122 69.7031323  76.2607735  84.16435045\n",
      "  90.08015306]\n",
      " [12.56651559 23.45484871 56.9556384  78.14397073 83.51693826 92.69732233\n",
      "  93.3640473 ]\n",
      " [12.62051526 58.0031241  80.37338802 86.92368389 88.79117963 95.76564458\n",
      "  97.90220537]]\n"
     ]
    }
   ],
   "source": [
    "rand_arr.sort(axis=0)\n",
    "print(rand_arr)"
   ]
  },
  {
   "cell_type": "code",
   "execution_count": 42,
   "id": "87a04733",
   "metadata": {},
   "outputs": [
    {
     "data": {
      "text/plain": [
       "array([[ True,  True,  True,  True,  True,  True,  True],\n",
       "       [ True,  True,  True,  True,  True,  True,  True],\n",
       "       [ True,  True,  True,  True,  True,  True,  True],\n",
       "       [ True,  True,  True,  True,  True,  True,  True],\n",
       "       [ True,  True,  True,  True,  True,  True,  True],\n",
       "       [ True,  True,  True,  True,  True,  True,  True]])"
      ]
     },
     "execution_count": 42,
     "metadata": {},
     "output_type": "execute_result"
    }
   ],
   "source": [
    "rand_arr.astype(bool)"
   ]
  },
  {
   "cell_type": "code",
   "execution_count": 27,
   "id": "89c1e3ab",
   "metadata": {},
   "outputs": [
    {
     "data": {
      "text/plain": [
       "array([[1, 4, 3],\n",
       "       [0, 4, 2]])"
      ]
     },
     "execution_count": 27,
     "metadata": {},
     "output_type": "execute_result"
    }
   ],
   "source": [
    "np.random.randint(5,size=(2,3))   #  2x3 array of random integers between 0 and 5"
   ]
  },
  {
   "cell_type": "code",
   "execution_count": 56,
   "id": "cd331502",
   "metadata": {},
   "outputs": [
    {
     "name": "stdout",
     "output_type": "stream",
     "text": [
      "[[1 2 3]\n",
      " [4 5 6]]\n"
     ]
    }
   ],
   "source": [
    "arr = np.array([[1, 2, 3], [4, 5, 6]])\n",
    "print(arr)"
   ]
  },
  {
   "cell_type": "code",
   "execution_count": 57,
   "id": "43c55ca1",
   "metadata": {},
   "outputs": [
    {
     "data": {
      "text/plain": [
       "array([1, 2, 3, 4, 5, 6])"
      ]
     },
     "execution_count": 57,
     "metadata": {},
     "output_type": "execute_result"
    }
   ],
   "source": [
    "arr.flatten()   "
   ]
  },
  {
   "cell_type": "code",
   "execution_count": 61,
   "id": "f0eab56e",
   "metadata": {},
   "outputs": [
    {
     "name": "stdout",
     "output_type": "stream",
     "text": [
      "[[1 2 3 7]\n",
      " [4 5 6 8]]\n"
     ]
    }
   ],
   "source": [
    "arr1 = np.array([[1, 2, 3 , 7], [4, 5, 6 , 8]])\n",
    "print(arr1)"
   ]
  },
  {
   "cell_type": "code",
   "execution_count": 62,
   "id": "c3e653ea",
   "metadata": {},
   "outputs": [
    {
     "data": {
      "text/plain": [
       "array([[1, 4],\n",
       "       [2, 5],\n",
       "       [3, 6],\n",
       "       [7, 8]])"
      ]
     },
     "execution_count": 62,
     "metadata": {},
     "output_type": "execute_result"
    }
   ],
   "source": [
    "arr1.T"
   ]
  },
  {
   "cell_type": "code",
   "execution_count": 64,
   "id": "f6d96c4e",
   "metadata": {},
   "outputs": [
    {
     "data": {
      "text/plain": [
       "array([[1, 2, 3, 7],\n",
       "       [4, 5, 6, 8]])"
      ]
     },
     "execution_count": 64,
     "metadata": {},
     "output_type": "execute_result"
    }
   ],
   "source": [
    "arr1.reshape(2,4)"
   ]
  },
  {
   "cell_type": "code",
   "execution_count": 71,
   "id": "d5b2ad4b",
   "metadata": {},
   "outputs": [],
   "source": [
    "first_array = ([1,2,3,4,5])\n",
    "second_array = ([6,7,8,9,10])"
   ]
  },
  {
   "cell_type": "code",
   "execution_count": 78,
   "id": "b8b27bb4",
   "metadata": {},
   "outputs": [
    {
     "name": "stdout",
     "output_type": "stream",
     "text": [
      "[ 1  2  3  4  5  6  7  8  9 10]\n"
     ]
    }
   ],
   "source": [
    "mixed_arr = np.concatenate((first_array , second_array) , axis = 0)   #  Concatenate two 1D arrays\n",
    "print(mixed_arr)"
   ]
  },
  {
   "cell_type": "code",
   "execution_count": 74,
   "id": "eb6434d8",
   "metadata": {},
   "outputs": [],
   "source": [
    "arr2 = np.array([[1, 2, 3], [4, 5, 6]])\n",
    "arr3 = np.array([[7, 8, 9], [10, 11, 12]])"
   ]
  },
  {
   "cell_type": "code",
   "execution_count": 82,
   "id": "972d4b89",
   "metadata": {},
   "outputs": [
    {
     "name": "stdout",
     "output_type": "stream",
     "text": [
      "[[ 1  2  3  7  8  9]\n",
      " [ 4  5  6 10 11 12]]\n"
     ]
    }
   ],
   "source": [
    "two_d_mix = np.concatenate((arr2 , arr3) , axis = 1)\n",
    "print(two_d_mix)"
   ]
  },
  {
   "cell_type": "code",
   "execution_count": 80,
   "id": "9d8416ae",
   "metadata": {},
   "outputs": [
    {
     "data": {
      "text/plain": [
       "[array([1, 2]), array([3, 4]), array([5, 6]), array([7, 8]), array([ 9, 10])]"
      ]
     },
     "execution_count": 80,
     "metadata": {},
     "output_type": "execute_result"
    }
   ],
   "source": [
    "np.split(mixed_arr , 5)   # Split 1D array into 3 sub-arrays"
   ]
  },
  {
   "cell_type": "code",
   "execution_count": 88,
   "id": "0cd317ec",
   "metadata": {},
   "outputs": [
    {
     "data": {
      "text/plain": [
       "[array([[1, 2],\n",
       "        [4, 5]]),\n",
       " array([[ 3,  7],\n",
       "        [ 6, 10]]),\n",
       " array([[ 8,  9],\n",
       "        [11, 12]])]"
      ]
     },
     "execution_count": 88,
     "metadata": {},
     "output_type": "execute_result"
    }
   ],
   "source": [
    "np.split(two_d_mix , 3 , axis = 1)   # Split 2D array into 3 sub-arrays along columns"
   ]
  },
  {
   "cell_type": "code",
   "execution_count": 86,
   "id": "f6f7fa4b",
   "metadata": {},
   "outputs": [
    {
     "data": {
      "text/plain": [
       "[array([[1, 2],\n",
       "        [4, 5]]),\n",
       " array([[ 3,  7],\n",
       "        [ 6, 10]]),\n",
       " array([[ 8,  9],\n",
       "        [11, 12]])]"
      ]
     },
     "execution_count": 86,
     "metadata": {},
     "output_type": "execute_result"
    }
   ],
   "source": [
    "np.hsplit(two_d_mix , 3)   # Split 2D array into 3 sub-arrays along columns"
   ]
  },
  {
   "cell_type": "code",
   "execution_count": 92,
   "id": "317304e3",
   "metadata": {},
   "outputs": [
    {
     "name": "stdout",
     "output_type": "stream",
     "text": [
      "[ 0  1  2  3  4  5  6  7  8  9 10]\n"
     ]
    }
   ],
   "source": [
    "ex_arr = np.array([0,1, 2, 3, 4, 5, 6, 7, 8, 9, 10])\n",
    "print(ex_arr)"
   ]
  },
  {
   "cell_type": "code",
   "execution_count": 93,
   "id": "3c0a8310",
   "metadata": {},
   "outputs": [
    {
     "data": {
      "text/plain": [
       "5"
      ]
     },
     "execution_count": 93,
     "metadata": {},
     "output_type": "execute_result"
    }
   ],
   "source": [
    "ex_arr[5]"
   ]
  },
  {
   "cell_type": "code",
   "execution_count": 96,
   "id": "37470bad",
   "metadata": {},
   "outputs": [
    {
     "name": "stdout",
     "output_type": "stream",
     "text": [
      "[ 0  1  2  4  4  5  6  7  8  9 10]\n"
     ]
    }
   ],
   "source": [
    "ex_arr[3] = 4\n",
    "print(ex_arr)"
   ]
  },
  {
   "cell_type": "code",
   "execution_count": 98,
   "id": "7bfeb0fe",
   "metadata": {},
   "outputs": [
    {
     "data": {
      "text/plain": [
       "array([0, 1, 2])"
      ]
     },
     "execution_count": 98,
     "metadata": {},
     "output_type": "execute_result"
    }
   ],
   "source": [
    "ex_arr[0:3]"
   ]
  },
  {
   "cell_type": "code",
   "execution_count": 105,
   "id": "9d3871d3",
   "metadata": {},
   "outputs": [
    {
     "data": {
      "text/plain": [
       "array([ True,  True,  True,  True,  True, False, False, False, False,\n",
       "       False, False])"
      ]
     },
     "execution_count": 105,
     "metadata": {},
     "output_type": "execute_result"
    }
   ],
   "source": [
    "ex_arr < 5"
   ]
  },
  {
   "cell_type": "code",
   "execution_count": 108,
   "id": "f5f0f088",
   "metadata": {},
   "outputs": [
    {
     "data": {
      "text/plain": [
       "array([ -1,  -2,  -3,  -5,  -5,  -6,  -7,  -8,  -9, -10, -11])"
      ]
     },
     "execution_count": 108,
     "metadata": {},
     "output_type": "execute_result"
    }
   ],
   "source": [
    "~ex_arr"
   ]
  },
  {
   "cell_type": "code",
   "execution_count": 109,
   "id": "35c91f1a",
   "metadata": {},
   "outputs": [
    {
     "data": {
      "text/plain": [
       "array([ 5,  6,  7,  9,  9, 10, 11, 12, 13, 14, 15])"
      ]
     },
     "execution_count": 109,
     "metadata": {},
     "output_type": "execute_result"
    }
   ],
   "source": [
    "np.add(ex_arr , 5)"
   ]
  },
  {
   "cell_type": "code",
   "execution_count": 110,
   "id": "75fc9e7b",
   "metadata": {},
   "outputs": [
    {
     "data": {
      "text/plain": [
       "array([-3, -2, -1,  1,  1,  2,  3,  4,  5,  6,  7])"
      ]
     },
     "execution_count": 110,
     "metadata": {},
     "output_type": "execute_result"
    }
   ],
   "source": [
    "np.subtract(ex_arr , 3)"
   ]
  },
  {
   "cell_type": "code",
   "execution_count": 112,
   "id": "9f8f4296",
   "metadata": {},
   "outputs": [
    {
     "data": {
      "text/plain": [
       "array([ 0,  4,  8, 16, 16, 20, 24, 28, 32, 36, 40])"
      ]
     },
     "execution_count": 112,
     "metadata": {},
     "output_type": "execute_result"
    }
   ],
   "source": [
    "np.multiply(ex_arr , 4)"
   ]
  },
  {
   "cell_type": "code",
   "execution_count": 113,
   "id": "e84116d2",
   "metadata": {},
   "outputs": [
    {
     "data": {
      "text/plain": [
       "array([0. , 0.5, 1. , 2. , 2. , 2.5, 3. , 3.5, 4. , 4.5, 5. ])"
      ]
     },
     "execution_count": 113,
     "metadata": {},
     "output_type": "execute_result"
    }
   ],
   "source": [
    "np.divide(ex_arr , 2)"
   ]
  },
  {
   "cell_type": "code",
   "execution_count": 114,
   "id": "23b4f708",
   "metadata": {},
   "outputs": [
    {
     "data": {
      "text/plain": [
       "array([  0,   1,   4,  16,  16,  25,  36,  49,  64,  81, 100], dtype=int32)"
      ]
     },
     "execution_count": 114,
     "metadata": {},
     "output_type": "execute_result"
    }
   ],
   "source": [
    "np.power(ex_arr , 2)"
   ]
  },
  {
   "cell_type": "code",
   "execution_count": 116,
   "id": "f582312a",
   "metadata": {},
   "outputs": [],
   "source": [
    "arr_1 = np.array([1,2,3,4,5])\n",
    "arr_2 = np.array([6,7,8,9,10])"
   ]
  },
  {
   "cell_type": "code",
   "execution_count": 117,
   "id": "4da69d7e",
   "metadata": {},
   "outputs": [
    {
     "data": {
      "text/plain": [
       "array([ 7,  9, 11, 13, 15])"
      ]
     },
     "execution_count": 117,
     "metadata": {},
     "output_type": "execute_result"
    }
   ],
   "source": [
    "np.add(arr_1 , arr_2)"
   ]
  },
  {
   "cell_type": "code",
   "execution_count": 118,
   "id": "574ad155",
   "metadata": {},
   "outputs": [
    {
     "data": {
      "text/plain": [
       "array([-5, -5, -5, -5, -5])"
      ]
     },
     "execution_count": 118,
     "metadata": {},
     "output_type": "execute_result"
    }
   ],
   "source": [
    "np.subtract(arr_1 , arr_2)"
   ]
  },
  {
   "cell_type": "code",
   "execution_count": 119,
   "id": "9107b84d",
   "metadata": {},
   "outputs": [
    {
     "data": {
      "text/plain": [
       "array([ 6, 14, 24, 36, 50])"
      ]
     },
     "execution_count": 119,
     "metadata": {},
     "output_type": "execute_result"
    }
   ],
   "source": [
    "np.multiply(arr_1 , arr_2)"
   ]
  },
  {
   "cell_type": "code",
   "execution_count": 120,
   "id": "949881cc",
   "metadata": {},
   "outputs": [
    {
     "data": {
      "text/plain": [
       "array([6.        , 3.5       , 2.66666667, 2.25      , 2.        ])"
      ]
     },
     "execution_count": 120,
     "metadata": {},
     "output_type": "execute_result"
    }
   ],
   "source": [
    "np.divide(arr_2 , arr_1)"
   ]
  },
  {
   "cell_type": "code",
   "execution_count": 121,
   "id": "76bb3a01",
   "metadata": {},
   "outputs": [
    {
     "data": {
      "text/plain": [
       "False"
      ]
     },
     "execution_count": 121,
     "metadata": {},
     "output_type": "execute_result"
    }
   ],
   "source": [
    "np.array_equal(arr_1 , arr_2)"
   ]
  },
  {
   "cell_type": "code",
   "execution_count": 125,
   "id": "7a94e9e7",
   "metadata": {},
   "outputs": [],
   "source": [
    "one_more_array = np.array([0 , 4 , 9 , 16 , 25 , 26])"
   ]
  },
  {
   "cell_type": "code",
   "execution_count": 126,
   "id": "b9675415",
   "metadata": {},
   "outputs": [
    {
     "data": {
      "text/plain": [
       "array([0.        , 2.        , 3.        , 4.        , 5.        ,\n",
       "       5.09901951])"
      ]
     },
     "execution_count": 126,
     "metadata": {},
     "output_type": "execute_result"
    }
   ],
   "source": [
    "np.sqrt(one_more_array)"
   ]
  },
  {
   "cell_type": "code",
   "execution_count": 127,
   "id": "e040479a",
   "metadata": {},
   "outputs": [
    {
     "data": {
      "text/plain": [
       "array([ 0.        , -0.7568025 ,  0.41211849, -0.28790332, -0.13235175,\n",
       "        0.76255845])"
      ]
     },
     "execution_count": 127,
     "metadata": {},
     "output_type": "execute_result"
    }
   ],
   "source": [
    "np.sin(one_more_array)"
   ]
  },
  {
   "cell_type": "code",
   "execution_count": 128,
   "id": "0834b21f",
   "metadata": {},
   "outputs": [
    {
     "name": "stderr",
     "output_type": "stream",
     "text": [
      "C:\\Users\\shaba\\AppData\\Local\\Temp\\ipykernel_15172\\816036828.py:1: RuntimeWarning: divide by zero encountered in log\n",
      "  np.log(one_more_array)\n"
     ]
    },
    {
     "data": {
      "text/plain": [
       "array([      -inf, 1.38629436, 2.19722458, 2.77258872, 3.21887582,\n",
       "       3.25809654])"
      ]
     },
     "execution_count": 128,
     "metadata": {},
     "output_type": "execute_result"
    }
   ],
   "source": [
    "np.log(one_more_array)"
   ]
  },
  {
   "cell_type": "code",
   "execution_count": 129,
   "id": "10980f3c",
   "metadata": {},
   "outputs": [
    {
     "data": {
      "text/plain": [
       "array([ 0,  4,  9, 16, 25, 26])"
      ]
     },
     "execution_count": 129,
     "metadata": {},
     "output_type": "execute_result"
    }
   ],
   "source": [
    "np.abs(one_more_array)"
   ]
  },
  {
   "cell_type": "code",
   "execution_count": 130,
   "id": "13084481",
   "metadata": {},
   "outputs": [
    {
     "data": {
      "text/plain": [
       "array([ 0.,  4.,  9., 16., 25., 26.])"
      ]
     },
     "execution_count": 130,
     "metadata": {},
     "output_type": "execute_result"
    }
   ],
   "source": [
    "np.ceil(one_more_array)"
   ]
  },
  {
   "cell_type": "code",
   "execution_count": 131,
   "id": "2d97c1eb",
   "metadata": {},
   "outputs": [
    {
     "data": {
      "text/plain": [
       "array([ 0.,  4.,  9., 16., 25., 26.])"
      ]
     },
     "execution_count": 131,
     "metadata": {},
     "output_type": "execute_result"
    }
   ],
   "source": [
    "np.floor(one_more_array)"
   ]
  },
  {
   "cell_type": "code",
   "execution_count": 132,
   "id": "5c7d2937",
   "metadata": {},
   "outputs": [],
   "source": [
    "simple_array = np.array([-2.5 , 1.5 , -0.5 , 4.5 , 3.5])"
   ]
  },
  {
   "cell_type": "code",
   "execution_count": 133,
   "id": "cdaa85d1",
   "metadata": {},
   "outputs": [
    {
     "data": {
      "text/plain": [
       "1.3"
      ]
     },
     "execution_count": 133,
     "metadata": {},
     "output_type": "execute_result"
    }
   ],
   "source": [
    "np.mean(simple_array)"
   ]
  },
  {
   "cell_type": "code",
   "execution_count": 134,
   "id": "80f5eefe",
   "metadata": {},
   "outputs": [
    {
     "data": {
      "text/plain": [
       "6.5"
      ]
     },
     "execution_count": 134,
     "metadata": {},
     "output_type": "execute_result"
    }
   ],
   "source": [
    "simple_array.sum()"
   ]
  },
  {
   "cell_type": "code",
   "execution_count": 135,
   "id": "d8d11bb3",
   "metadata": {},
   "outputs": [
    {
     "data": {
      "text/plain": [
       "-2.5"
      ]
     },
     "execution_count": 135,
     "metadata": {},
     "output_type": "execute_result"
    }
   ],
   "source": [
    "simple_array.min()"
   ]
  },
  {
   "cell_type": "code",
   "execution_count": 136,
   "id": "4a04c3c4",
   "metadata": {},
   "outputs": [
    {
     "data": {
      "text/plain": [
       "6.5600000000000005"
      ]
     },
     "execution_count": 136,
     "metadata": {},
     "output_type": "execute_result"
    }
   ],
   "source": [
    "np.var(simple_array)"
   ]
  },
  {
   "cell_type": "code",
   "execution_count": 137,
   "id": "4ba6ca59",
   "metadata": {},
   "outputs": [
    {
     "data": {
      "text/plain": [
       "2.5612496949731396"
      ]
     },
     "execution_count": 137,
     "metadata": {},
     "output_type": "execute_result"
    }
   ],
   "source": [
    "np.std(simple_array)"
   ]
  },
  {
   "cell_type": "code",
   "execution_count": 138,
   "id": "486c4f75",
   "metadata": {},
   "outputs": [
    {
     "data": {
      "text/plain": [
       "array([2.5, 1.5, 0.5, 4.5, 3.5])"
      ]
     },
     "execution_count": 138,
     "metadata": {},
     "output_type": "execute_result"
    }
   ],
   "source": [
    "np.abs(simple_array)"
   ]
  },
  {
   "cell_type": "code",
   "execution_count": 139,
   "id": "ba54b560",
   "metadata": {},
   "outputs": [
    {
     "data": {
      "text/plain": [
       "array([-2.,  2., -0.,  5.,  4.])"
      ]
     },
     "execution_count": 139,
     "metadata": {},
     "output_type": "execute_result"
    }
   ],
   "source": [
    "np.ceil(simple_array)"
   ]
  },
  {
   "cell_type": "code",
   "execution_count": 140,
   "id": "95df943e",
   "metadata": {},
   "outputs": [
    {
     "data": {
      "text/plain": [
       "array([-3.,  1., -1.,  4.,  3.])"
      ]
     },
     "execution_count": 140,
     "metadata": {},
     "output_type": "execute_result"
    }
   ],
   "source": [
    "np.floor(simple_array)"
   ]
  },
  {
   "cell_type": "code",
   "execution_count": 141,
   "id": "215ec73d",
   "metadata": {},
   "outputs": [
    {
     "data": {
      "text/plain": [
       "array([-2.,  2., -0.,  4.,  4.])"
      ]
     },
     "execution_count": 141,
     "metadata": {},
     "output_type": "execute_result"
    }
   ],
   "source": [
    "np.round(simple_array)"
   ]
  }
 ],
 "metadata": {
  "kernelspec": {
   "display_name": "base",
   "language": "python",
   "name": "python3"
  },
  "language_info": {
   "codemirror_mode": {
    "name": "ipython",
    "version": 3
   },
   "file_extension": ".py",
   "mimetype": "text/x-python",
   "name": "python",
   "nbconvert_exporter": "python",
   "pygments_lexer": "ipython3",
   "version": "3.12.7"
  }
 },
 "nbformat": 4,
 "nbformat_minor": 5
}
